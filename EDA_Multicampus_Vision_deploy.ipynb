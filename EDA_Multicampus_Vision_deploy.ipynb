{
 "cells": [
  {
   "cell_type": "markdown",
   "metadata": {},
   "source": [
    "# Segmentation EDA"
   ]
  },
  {
   "cell_type": "markdown",
   "metadata": {},
   "source": [
    "## 데이터 다운로드 후 압축풀기"
   ]
  },
  {
   "cell_type": "code",
   "execution_count": 0,
   "metadata": {
    "colab": {},
    "colab_type": "code",
    "id": "WHU2KIwzx2vT"
   },
   "outputs": [],
   "source": [
    "# 데이터를 다운로드 합니다. \n",
    "!wget https://pai-datasets.s3.ap-northeast-2.amazonaws.com/vision_multi_campus/images_labels.zip\n",
    "\n",
    "# 압축을 풉니다.\n",
    "import zipfile\n",
    "zip_obj = zipfile.ZipFile('./images_labels.zip')\n",
    "zip_obj.extractall('./')\n",
    "zip_obj.close()"
   ]
  },
  {
   "cell_type": "markdown",
   "metadata": {},
   "source": [
    "### 데이터 구성\n",
    "\n",
    "````\n",
    "images_labels/images/\n",
    "                |- *.jpg\n",
    "                |- *.jpg\n",
    "             /labels/car\n",
    "                    |- hyundai.json\n",
    "````\n"
   ]
  },
  {
   "cell_type": "code",
   "execution_count": 0,
   "metadata": {
    "colab": {},
    "colab_type": "code",
    "id": "pk6fq2qEy_LL"
   },
   "outputs": [],
   "source": [
    "import os\n",
    "import cv2\n",
    "import json\n",
    "import glob\n",
    "import pprint\n",
    "import numpy as np \n",
    "from tqdm import tqdm\n",
    "from PIL import Image\n",
    "import matplotlib.pyplot as plt\n",
    "from tensorflow.python.keras.utils import to_categorical"
   ]
  },
  {
   "cell_type": "markdown",
   "metadata": {},
   "source": [
    "## Images / Labels 불러오기 \n",
    "\n",
    "데이터가 들어있는 images_labels폴더에서 모든 이미지 경로들을 불러옵니다"
   ]
  },
  {
   "cell_type": "code",
   "execution_count": 0,
   "metadata": {
    "colab": {},
    "colab_type": "code",
    "id": "v-DUtGyAzBRC"
   },
   "outputs": [],
   "source": [
    "# 모든 이미지 경로를 불러 옵니다. \n",
    "image_dir = './images_labels/images'\n",
    "img_paths = glob.glob('{}/GH*.jpg'.format(image_dir))\n",
    "print(len(img_paths))\n",
    "\n",
    "# 샘플 이미지를 불러옵니다. \n",
    "img = Image.open(img_paths[0])\n",
    "plt.imshow(img)\n",
    "\n",
    "# Label 을 불러 옵니다\n",
    "car_label = './images_labels/labels/car/hyundai.json'\n",
    "f = open(car_label, 'r')\n",
    "car_jsons = json.load(f)"
   ]
  },
  {
   "cell_type": "code",
   "execution_count": 0,
   "metadata": {
    "colab": {},
    "colab_type": "code",
    "id": "kHm51ErWzmpZ"
   },
   "outputs": [],
   "source": [
    "def segmentation_info(jsons_info, ind, show=True):\n",
    "    \"\"\"\n",
    "    Description:\n",
    "        해당 함수는 index 을 입력받아 image_name 과 image 번호와 \n",
    "        그리고 annotation 정보를 반환합니다. \n",
    "        index 번호는 jsons_info['images']에 들어있는 객체의 index 번호를 말합니다. \n",
    "\n",
    "    Args:\n",
    "        jsons_info: dict, json 파일에서 읽어온 정보 \n",
    "        ind: int, index 정보 \n",
    "    Return:\n",
    "        image_name: str, 해당 index 에 해당하는 이미지 이름\n",
    "        image_id: int, 해당 index 에 해당하는 이미지 번호 \n",
    "        ret_annos: ndarray, 해당 index에 해당하는 annotation(polyline) 정보 \n",
    "    \"\"\"\n",
    "    # Search Image id / name \n",
    "    image_name = jsons_info['images'][ind]['file_name']\n",
    "    image_id = jsons_info['images'][ind]['id']\n",
    "\n",
    "    # Load Segmentation Annotation\n",
    "    ret_names = [] \n",
    "    ret_ids = []\n",
    "    ret_annos = []\n",
    "    for anno in jsons_info['annotations']:\n",
    "        if anno['image_id'] == image_id:\n",
    "            seg_anno = anno['segmentation']\n",
    "\n",
    "            sample_anno = np.reshape(seg_anno, [1, -1, 2])\n",
    "            sample_anno = sample_anno.astype(np.int64)\n",
    "            \n",
    "            # Showing Image \n",
    "            if show:\n",
    "                sample_img = np.array(Image.open(os.path.join(image_dir, image_name)))\n",
    "                cv2.polylines(sample_img, [sample_anno], True, (255,0,0))\n",
    "                print(image_name, image_id)\n",
    "                plt.figure(figsize=(30,10))\n",
    "                plt.imshow(sample_img)\n",
    "                plt.show()\n",
    "                \n",
    "            ret_annos.append(sample_anno)\n",
    "            \n",
    "    return image_name, image_id, ret_annos\n",
    "\n",
    "segmentation_info(car_jsons, 150)"
   ]
  },
  {
   "cell_type": "markdown",
   "metadata": {
    "colab_type": "text",
    "id": "KisHBqxEyKpi"
   },
   "source": [
    "## EDA"
   ]
  },
  {
   "cell_type": "code",
   "execution_count": 0,
   "metadata": {
    "colab": {},
    "colab_type": "code",
    "id": "YbTh0c8GyTDy"
   },
   "outputs": [],
   "source": [
    "import os\n",
    "import cv2\n",
    "import json\n",
    "import glob\n",
    "import pprint\n",
    "import numpy as np \n",
    "from tqdm import tqdm\n",
    "from PIL import Image\n",
    "import matplotlib.pyplot as plt\n",
    "from tensorflow.python.keras.utils import to_categorical"
   ]
  },
  {
   "cell_type": "code",
   "execution_count": 0,
   "metadata": {
    "colab": {},
    "colab_type": "code",
    "id": "Ba9WAD8WzMsK"
   },
   "outputs": [],
   "source": [
    "# 총 이미지 갯수 \n",
    "n_images = len(car_jsons['images']) \n",
    "print('사용할 이미지 갯수 : {}'.format(n_images))\n",
    "\n",
    "# 모든 이미지의 annotation 정보를 저장합니다. \n",
    "global_seg_annos = [] # [[seg_anno], [seg_anno1], [seg_anno2] ...]\n",
    "global_loc_annos = [] # [[loc_anno], [loc_anno1], [seg_anno2] ...]\n",
    "for ind in tqdm(range(n_images)[:]):\n",
    "    \n",
    "    # Extract Segmentation Annotation Info \n",
    "    img_name, img_id, annos = segmentation_info(car_jsons, ind, False)\n",
    "\n",
    "    # Mask 갯수가 0이 아니면 Mask, Label을 만들고 저장한다. \n",
    "    if len(annos) !=0 :\n",
    "        for anno in annos:\n",
    "            anno = np.reshape(anno, [-1, 2])\n",
    "\n",
    "            # 위 segmentation annotation 정보를 이용해 x1y1, x2y2 좌표를 찾아냅니다. \n",
    "            x1y1 = # fix me!\n",
    "            x2y2 = # fix me!\n",
    "            detect_anno = # fix me!\n",
    " \n",
    "            global_loc_annos.append(detect_anno)\n",
    "        global_seg_annos.extend(annos)\n",
    "\n",
    "# 총 객체 갯수 \n",
    "print('\\n 모든 이미지 안에 들어 있는 객체 갯수 : {}'.format(len(global_loc_annos)))\n"
   ]
  },
  {
   "cell_type": "markdown",
   "metadata": {
    "colab_type": "text",
    "id": "lJ3TI9yy5tDO"
   },
   "source": [
    "### hs | ws Histogram"
   ]
  },
  {
   "cell_type": "code",
   "execution_count": 0,
   "metadata": {
    "colab": {},
    "colab_type": "code",
    "id": "VVwMsykw3fSZ"
   },
   "outputs": [],
   "source": [
    "global_loc_annos = np.asarray(global_loc_annos)\n",
    "\n",
    "# Image 내 모든 객체의 ws, hs\n",
    "ws = # fix me!\n",
    "hs = # fix me!\n",
    "\n",
    "plt.hist(ws, alpha=0.5, label='ws')\n",
    "plt.hist(hs, alpha=0.5, label='hs')\n",
    "plt.legend()"
   ]
  },
  {
   "cell_type": "markdown",
   "metadata": {
    "colab_type": "text",
    "id": "xHP49LVA5pXP"
   },
   "source": [
    "### Ratios "
   ]
  },
  {
   "cell_type": "code",
   "execution_count": 0,
   "metadata": {
    "colab": {},
    "colab_type": "code",
    "id": "ueFOWvhQ3w1U"
   },
   "outputs": [],
   "source": [
    "# visualization hs / ws ratios\n",
    "ratios = hs/ws\n",
    "plt.hist(hs/ws)"
   ]
  },
  {
   "cell_type": "markdown",
   "metadata": {
    "colab_type": "text",
    "id": "HlK6R0Ew5l1y"
   },
   "source": [
    "### Image Std mean "
   ]
  },
  {
   "cell_type": "code",
   "execution_count": 0,
   "metadata": {
    "colab": {},
    "colab_type": "code",
    "id": "6K3kRSWM53Wd"
   },
   "outputs": [],
   "source": [
    "\"\"\"\n",
    "이미지를 한장씩 불러와 평균, 분산을 계산합니다. \n",
    "R,G,B channel 따로 따로 분산과 평균을 계산합니다.\n",
    "\"\"\"\n",
    "\n",
    "# 모든 이미지의 각 channel 평균, std 구하기\n",
    "img_means = []\n",
    "img_stds = []\n",
    "for path in tqdm(img_paths):\n",
    "    img = Image.open(path)\n",
    "    # fix me! 이미지의 평균을 구해 img_means에 넣어주세요!\n",
    "    # fix me! 이미지의 std를 구해 img_stds에 넣어주세요!"
   ]
  },
  {
   "cell_type": "markdown",
   "metadata": {
    "colab_type": "text",
    "id": "sP_DfUwQ6AYI"
   },
   "source": [
    "### Object Std mean"
   ]
  },
  {
   "cell_type": "code",
   "execution_count": 0,
   "metadata": {
    "colab": {},
    "colab_type": "code",
    "id": "WnoU2R3X5sZ4"
   },
   "outputs": [],
   "source": [
    "def generation_mask(image_size, polys, color):\n",
    "    mask = np.zeros_like(image)\n",
    "    for poly in polys:\n",
    "        mask = cv2.fillPoly(mask, [poly], color)\n",
    "    return mask"
   ]
  },
  {
   "cell_type": "code",
   "execution_count": 0,
   "metadata": {
    "colab": {},
    "colab_type": "code",
    "id": "o9YVy3Sl6OMs"
   },
   "outputs": [],
   "source": [
    "n_images = len(car_jsons['images']) \n",
    "\n",
    "rgb_means =[] \n",
    "rgb_stds =[] \n",
    "pixels = []\n",
    "\n",
    "for ind in tqdm(range(n_images)[:]):\n",
    "    \n",
    "    # Extract Segmentation Annotation Info \n",
    "    img_name, img_id , annos = segmentation_info(car_jsons, ind, False)\n",
    "\n",
    "    # Mask 갯수가 0이 아니면 Mask, Label을 만들고 저장한다. \n",
    "    if len(annos) !=0 :\n",
    "        # Image Load \n",
    "        img = np.array(Image.open(os.path.join(image_dir, img_name)))\n",
    "        \n",
    "        # Generate binart Mask \n",
    "        mask = generation_mask(img_size, annos, [255,0,0])\n",
    "        mask =  # fix me!\n",
    "        indices2d = #fix me!\n",
    "\n",
    "        # 픽셀 수 \n",
    "        n_pixels = # fix me!\n",
    "        # fix me! 위에서 만든 n_pixels를 위에서 만든 pixels에 넣어주세요\n",
    "        \n",
    "        # color\n",
    "        # fix me! object의 rgb mean을 구해주세요\n",
    "        # fix me! object의 rgb std를 구해주세요\n",
    "        # fix me! rgb mean을 위에서 만든 rgb means에 넣어주세요\n",
    "        # fix me! rgb std를 위에서 만든 rgb_stds에 넣어주세요"
   ]
  },
  {
   "cell_type": "markdown",
   "metadata": {
    "colab_type": "text",
    "id": "2Hjmnx753FH2"
   },
   "source": [
    "---\n",
    "⊙ Copyright(c) 2020 by PublicAI. All rights reserved <br>\n",
    "All pictures, codes, writings cannot be copied without permission. <br>\n",
    "Writen by PAI(info@publicai.co.kr) <br>\n",
    "last updated on 2020/01/4 <br>\n",
    "\n",
    "---"
   ]
  }
 ],
 "metadata": {
  "colab": {
   "collapsed_sections": [],
   "name": "EDA_Multicampus_Vision.ipynb",
   "private_outputs": true,
   "provenance": [],
   "toc_visible": true
  },
  "kernelspec": {
   "display_name": "Python 3",
   "language": "python",
   "name": "python3"
  },
  "language_info": {
   "codemirror_mode": {
    "name": "ipython",
    "version": 3
   },
   "file_extension": ".py",
   "mimetype": "text/x-python",
   "name": "python",
   "nbconvert_exporter": "python",
   "pygments_lexer": "ipython3",
   "version": "3.6.8"
  }
 },
 "nbformat": 4,
 "nbformat_minor": 1
}
