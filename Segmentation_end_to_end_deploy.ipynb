{
 "cells": [
  {
   "cell_type": "markdown",
   "metadata": {
    "colab_type": "text",
    "id": "vB5cmdcygnfg"
   },
   "source": [
    "# Segmentation End-to-End Processing"
   ]
  },
  {
   "cell_type": "markdown",
   "metadata": {
    "colab_type": "text",
    "id": "267WHeQSgvHb"
   },
   "source": [
    "## 1. Data Processing"
   ]
  },
  {
   "cell_type": "markdown",
   "metadata": {
    "colab_type": "text",
    "id": "VIuZYyjsgxIa"
   },
   "source": [
    "### 데이터 다운로드 후 압축풀기"
   ]
  },
  {
   "cell_type": "code",
   "execution_count": null,
   "metadata": {
    "colab": {
     "base_uri": "https://localhost:8080/",
     "height": 224
    },
    "colab_type": "code",
    "id": "TLbFCPQF3Ajr",
    "outputId": "44640965-3fef-44f2-d77b-d379935f148c"
   },
   "outputs": [],
   "source": [
    "# 데이터를 다운로드합니다\n",
    "!wget https://pai-datasets.s3.ap-northeast-2.amazonaws.com/vision_multi_campus/images_labels.zip\n",
    "\n",
    "# 압축을 풉니다\n",
    "import zipfile\n",
    "zip_obj = zipfile.ZipFile('./images_labels.zip')\n",
    "zip_obj.extractall('./')\n",
    "zip_obj.close()"
   ]
  },
  {
   "cell_type": "markdown",
   "metadata": {
    "colab_type": "text",
    "id": "b8scDrCig5g3"
   },
   "source": [
    "### 데이터 구성\n",
    "\n",
    "````\n",
    "images_labels/images/\n",
    "                |- *.jpg\n",
    "                |- *.jpg\n",
    "             /labels/car\n",
    "                    |- hyundai.json\n",
    "````\n"
   ]
  },
  {
   "cell_type": "code",
   "execution_count": null,
   "metadata": {
    "colab": {
     "base_uri": "https://localhost:8080/",
     "height": 80
    },
    "colab_type": "code",
    "id": "SQxvfRQp3Aee",
    "outputId": "b628c891-3353-4982-a278-940518cb0ff7"
   },
   "outputs": [],
   "source": [
    "import os\n",
    "import cv2\n",
    "import json\n",
    "import glob\n",
    "import pprint\n",
    "import numpy as np \n",
    "from tqdm import tqdm\n",
    "from PIL import Image\n",
    "import matplotlib.pyplot as plt\n",
    "from tensorflow.python.keras.utils import to_categorical"
   ]
  },
  {
   "cell_type": "markdown",
   "metadata": {
    "colab_type": "text",
    "id": "Z4ssVFmBg9Wc"
   },
   "source": [
    "### 1. Images / Labels 불러오기 \n",
    "\n",
    "데이터가 들어있는 images_labels폴더에서 모든 이미지 경로들을 불러옵니다"
   ]
  },
  {
   "cell_type": "code",
   "execution_count": null,
   "metadata": {
    "colab": {
     "base_uri": "https://localhost:8080/",
     "height": 257
    },
    "colab_type": "code",
    "id": "BFBUpemz3Ab9",
    "outputId": "741c8b90-d85a-4cb3-bd90-6856f24eda56"
   },
   "outputs": [],
   "source": [
    "# 모든 이미지 경로를 불러옵니다.\n",
    "image_dir = './images_labels/images'\n",
    "img_paths = glob.glob('{}/GH*.jpg'.format(image_dir))\n",
    "\n",
    "# 샘플 이미지를 불러옵니다.\n",
    "img = Image.open(img_paths[0])\n",
    "plt.imshow(img)"
   ]
  },
  {
   "cell_type": "markdown",
   "metadata": {
    "colab_type": "text",
    "id": "ZTRzKYuDhFR7"
   },
   "source": [
    "### 2. Car Label\n",
    "\n",
    "현재 자동차가 segmentation된 label값은 ./images_labels/labels/car 폴더내에 json형태로 저장되어있습니다."
   ]
  },
  {
   "cell_type": "code",
   "execution_count": null,
   "metadata": {
    "colab": {
     "base_uri": "https://localhost:8080/",
     "height": 663
    },
    "colab_type": "code",
    "id": "Po9Tq8uV3AZP",
    "outputId": "bcb9952c-71e7-437d-9ce5-d0e877bd5f99"
   },
   "outputs": [],
   "source": [
    "car_label = './images_labels/labels/car/hyundai.json'\n",
    "f = open(car_label, 'r')\n",
    "car_jsons = json.load(f)\n",
    "\n",
    "pprint.pprint(car_jsons.keys())\n",
    "print('# annotations : {}'.format(len(car_jsons['annotations'])))\n",
    "\n",
    "# Image IDfks\n",
    "pprint.pprint(car_jsons['annotations'][3])\n",
    "pprint.pprint(car_jsons['images'][3])\n",
    "\n",
    "pprint.pprint(car_jsons['annotations'][4])\n",
    "pprint.pprint(car_jsons['images'][4])\n",
    "pprint.pprint(car_jsons['categories'])"
   ]
  },
  {
   "cell_type": "markdown",
   "metadata": {
    "colab_type": "text",
    "id": "glaT61nphJJJ"
   },
   "source": [
    "### 3. Segmentation Label값 가져오기"
   ]
  },
  {
   "cell_type": "code",
   "execution_count": null,
   "metadata": {
    "colab": {
     "base_uri": "https://localhost:8080/",
     "height": 1000
    },
    "colab_type": "code",
    "id": "yg2GLPPd3AWj",
    "outputId": "5c86c9f0-8ce8-41e5-9d6d-3d3f97f3a63f"
   },
   "outputs": [],
   "source": [
    "def segmentation_info(jsons_info, ind, show=True):\n",
    "    # Search Image id / name \n",
    "    image_name = jsons_info['images'][ind]['file_name']\n",
    "    image_id = jsons_info['images'][ind]['id']\n",
    "\n",
    "    # Load Image\n",
    "    sample_img = Image.open(os.path.join(image_dir, image_name))\n",
    "    resize_img = sample_img.resize([sample_img.size[0]//4, sample_img.size[1]//4])\n",
    "    sample_img = np.array(resize_img)\n",
    "    \n",
    "    # Load Segmentation Annotation\n",
    "    ret_names = [] \n",
    "    ret_ids = []\n",
    "    ret_annos = []\n",
    "    for anno in jsons_info['annotations']:\n",
    "        if anno['image_id'] == image_id:\n",
    "            seg_anno = anno['segmentation']\n",
    "            # cv2.polylines 쓰기 위해 segmentation 정보 reshpe\n",
    "            sample_anno = np.reshape(seg_anno, [1, -1, 2])\n",
    "            sample_anno = sample_anno.astype(np.int64)\n",
    "            sample_anno = sample_anno//4 \n",
    "            cv2.polylines(sample_img, [sample_anno], True, (255,0,0))\n",
    "            \n",
    "            # Showing\n",
    "            if show:\n",
    "                print(image_name, image_id)\n",
    "                plt.figure(figsize=(30,10))\n",
    "                plt.imshow(sample_img)\n",
    "                plt.show()\n",
    "                \n",
    "            ret_annos.append(sample_anno)\n",
    "            \n",
    "    return image_name, image_id, ret_annos\n",
    "\n",
    "segmentation_info(car_jsons, 1227)"
   ]
  },
  {
   "cell_type": "markdown",
   "metadata": {
    "colab_type": "text",
    "id": "Wmnrtsq-hMru"
   },
   "source": [
    "### 4. 전체 이미지에 대한 라벨 설정하기\n",
    "\n",
    "1/4로 줄인 이미지에 대해 마스크를 생성합니다."
   ]
  },
  {
   "cell_type": "code",
   "execution_count": null,
   "metadata": {
    "colab": {},
    "colab_type": "code",
    "id": "tn5w65AY3AUG"
   },
   "outputs": [],
   "source": [
    "def generation_mask(image, polys, color):\n",
    "    mask = np.zeros_like(image)\n",
    "    for poly in polys:\n",
    "        mask = cv2.fillPoly(mask, [poly], color)\n",
    "    return mask"
   ]
  },
  {
   "cell_type": "code",
   "execution_count": null,
   "metadata": {
    "colab": {},
    "colab_type": "code",
    "id": "ujnW_jhG3ARg"
   },
   "outputs": [],
   "source": [
    "def generation_seg_label(mask):\n",
    "    \"\"\"\n",
    "    Description:\n",
    "        해당 함수를 사용 할 때 주의해야 할점. \n",
    "        해당 함수는 Binary 형태로 Classification Label 을 생성한다. \n",
    "        Color 로 여러 Label 을 지정했을 경우 해당 함수는 적절한 함수가 아니다. \n",
    "    \"\"\"\n",
    "    return to_categorical(np.sum(mask, axis=-1).astype(np.bool), 2)\n"
   ]
  },
  {
   "cell_type": "code",
   "execution_count": null,
   "metadata": {
    "colab": {
     "base_uri": "https://localhost:8080/",
     "height": 34
    },
    "colab_type": "code",
    "id": "ik-pg6St3AO0",
    "outputId": "2ddb8f63-b852-4d07-e31c-a65785ee9e07"
   },
   "outputs": [],
   "source": [
    "# Mask \n",
    "save_mask_dir = './images_labels/quarter/mask'\n",
    "os.makedirs(save_mask_dir, exist_ok=True)\n",
    "\n",
    "# Label \n",
    "save_label_dir = './images_labels/quarter/label'\n",
    "os.makedirs(save_label_dir, exist_ok=True)\n",
    "\n",
    "n_images = len(car_jsons['images']) \n",
    "\n",
    "for ind in tqdm(range(n_images)[:]):\n",
    "    \n",
    "    # Extract Segmentation Annotation Info \n",
    "    img_name, img_id , annos = segmentation_info(car_jsons, ind, False)\n",
    "    # Mask 갯수가 0이 아니면 Mask, Label을 만들고 저장한다. \n",
    "    if len(annos) !=0 :\n",
    "        # Image Load \n",
    "        img = Image.open(os.path.join(image_dir, img_name))\n",
    "        resize_img = img.resize([img.size[0]//4, img.size[1]//4])\n",
    "        img = np.array(resize_img)\n",
    "        # Generate Mask \n",
    "        mask = generation_mask(img, annos, [255,0,0])\n",
    "\n",
    "        # Save Mask\n",
    "        save_mask = os.path.join(save_mask_dir, img_name)\n",
    "        plt.imsave(save_mask, mask)\n",
    "\n",
    "        # Generate Label\n",
    "        label = generation_seg_label(mask)\n",
    "\n",
    "        # Save Label\n",
    "        save_label = os.path.join(save_label_dir, img_name.replace('jpg', 'npy'))\n",
    "        np.save(save_label, label)        "
   ]
  },
  {
   "cell_type": "markdown",
   "metadata": {
    "colab_type": "text",
    "id": "eS3lb7WrMmz6"
   },
   "source": [
    "## 2. 이미지 - 라벨 매칭하기"
   ]
  },
  {
   "cell_type": "code",
   "execution_count": null,
   "metadata": {
    "colab": {
     "base_uri": "https://localhost:8080/",
     "height": 119
    },
    "colab_type": "code",
    "id": "lIbRp2uP3AMs",
    "outputId": "54529085-37a2-49cd-d64e-800e5b5ba76c"
   },
   "outputs": [],
   "source": [
    "# 모든 이미지 경로를 불러옵니다.\n",
    "image_dir = './images_labels/images'\n",
    "img_paths = glob.glob('{}/GH*.jpg'.format(image_dir))\n",
    "\n",
    "label_dir = './images_labels/quarter/label'\n",
    "label_path = glob.glob('{}/*.npy'.format(label_dir))\n",
    "\n",
    "label_exist_img_path = []\n",
    "for i in tqdm(range(len(img_paths))):\n",
    "    for j in range(len(label_path)):\n",
    "        label_exist_file_num = label_path[j].split('/')[4].split('.')[0]\n",
    "        if label_exist_file_num in img_paths[i]:\n",
    "            label_exist_img_path.append(img_paths[i])\n",
    "\n",
    "label_path.sort()\n",
    "label_exist_img_path.sort()\n",
    "\n",
    "print(\"정렬된 label path의 갯수 : {}\".format(len(label_path)))\n",
    "print(\"정렬된 img path의 갯수 : {}\".format(len(label_exist_img_path)))\n",
    "print(\"정렬된 label path의 5번쨰 path : {}\".format(label_path[5]))\n",
    "print(\"정렬된 img path의 5번쨰 path : {}\".format(label_exist_img_path[5]))"
   ]
  },
  {
   "cell_type": "code",
   "execution_count": null,
   "metadata": {
    "colab": {},
    "colab_type": "code",
    "id": "9H6c6SXEH0fW"
   },
   "outputs": [],
   "source": [
    "def match_image_and_label(image_path, label_path, num_data):\n",
    "    image_path = image_path[:num_data]\n",
    "    label_path = label_path[:num_data]\n",
    "    image_label_list = []\n",
    "    image_numpy_list = []\n",
    "    label_numpy_list = []\n",
    "    for i in tqdm(range(len(image_path))):\n",
    "        # image numpy\n",
    "        image = Image.open(image_path[i])\n",
    "        resize_image = image.resize([image.size[0]//4, image.size[1]//4])\n",
    "        resize_image_numpy = np.array(resize_image)\n",
    "        image_numpy_list.append(resize_image_numpy)\n",
    "        # label numpy\n",
    "        label = np.load(label_path[i])\n",
    "        label_numpy_list.append(label)\n",
    "    # 합치기\n",
    "    image_numpy_array = np.array(image_numpy_list)\n",
    "    label_numpy_array = np.array(label_numpy_list)\n",
    "    image_label_list.append(image_numpy_array)\n",
    "    image_label_list.append(label_numpy_array)\n",
    "    return image_label_list # np.array형태의 이미지와 라벨 쌍"
   ]
  },
  {
   "cell_type": "markdown",
   "metadata": {
    "colab_type": "text",
    "id": "U20UYeJGhXYy"
   },
   "source": [
    "## 3. Model Processing"
   ]
  },
  {
   "cell_type": "markdown",
   "metadata": {
    "colab_type": "text",
    "id": "iMeJcHdddrrI"
   },
   "source": [
    "### 데이터 세팅하기"
   ]
  },
  {
   "cell_type": "code",
   "execution_count": null,
   "metadata": {
    "colab": {},
    "colab_type": "code",
    "id": "L9m3nVGfP01J"
   },
   "outputs": [],
   "source": [
    "image_path = label_exist_img_path\n",
    "label_path = label_path"
   ]
  },
  {
   "cell_type": "code",
   "execution_count": null,
   "metadata": {
    "colab": {
     "base_uri": "https://localhost:8080/",
     "height": 34
    },
    "colab_type": "code",
    "id": "lPchn5HyZF6o",
    "outputId": "2b3073a6-1d12-4f69-ec64-9026948801b5"
   },
   "outputs": [],
   "source": [
    "data_image, data_label = match_image_and_label(image_path, label_path, 2200)\n",
    "train_image = data_image[:2000]\n",
    "train_label = data_label[:2000]\n",
    "test_image = data_image[2000:]\n",
    "test_label = data_label[2000:]"
   ]
  },
  {
   "cell_type": "code",
   "execution_count": null,
   "metadata": {
    "colab": {
     "base_uri": "https://localhost:8080/",
     "height": 85
    },
    "colab_type": "code",
    "id": "JlZDbMB2RvAO",
    "outputId": "8ffff84f-8a20-4a90-d96b-81c09672d9a6"
   },
   "outputs": [],
   "source": [
    "print(\"train image의 shape : \",train_image.shape)\n",
    "print(\"train label의 shape : \",train_label.shape)\n",
    "print(\"test image의 shape : \",test_image.shape)\n",
    "print(\"test label의 shape : \",test_label.shape)"
   ]
  },
  {
   "cell_type": "markdown",
   "metadata": {
    "colab_type": "text",
    "id": "xP1Sb0Sxduqz"
   },
   "source": [
    "### Unet 구성하기"
   ]
  },
  {
   "cell_type": "code",
   "execution_count": null,
   "metadata": {
    "colab": {
     "base_uri": "https://localhost:8080/",
     "height": 34
    },
    "colab_type": "code",
    "id": "4KAqC8EVr3EJ",
    "outputId": "8230eb55-c082-4928-ec96-b3c55c8951b5"
   },
   "outputs": [],
   "source": [
    "from tensorflow.keras.layers import Layer, Conv2D, MaxPool2D, Conv2DTranspose, ZeroPadding2D, MaxPooling2D, Concatenate\n",
    "from tensorflow.keras.layers import Input, UpSampling2D, BatchNormalization, Flatten, Dense, Dropout\n",
    "from tensorflow.keras.layers import Softmax, Add\n",
    "from tensorflow.keras.layers import Lambda, concatenate\n",
    "from tensorflow.keras import optimizers\n",
    "import tensorflow.keras.backend as K \n",
    "from tensorflow.keras.models import Model\n",
    "import matplotlib.pyplot as plt \n",
    "from keras.utils import np_utils\n",
    "import numpy as np\n",
    "import tensorflow as tf"
   ]
  },
  {
   "cell_type": "code",
   "execution_count": null,
   "metadata": {
    "colab": {
     "base_uri": "https://localhost:8080/",
     "height": 1000
    },
    "colab_type": "code",
    "id": "Z5fwwBr4kSNK",
    "outputId": "776ba9e9-65b5-48b7-ae31-e1f37cacd189"
   },
   "outputs": [],
   "source": [
    "tf.reset_default_graph()\n",
    "\n",
    "# 마지막 시간이니 만큼 다른 자료들을 최대한 보지 말고 U-net 모델을 구성해주세요\n",
    "# fix me!"
   ]
  },
  {
   "cell_type": "code",
   "execution_count": null,
   "metadata": {
    "colab": {},
    "colab_type": "code",
    "id": "KL8Tj_Ear36O"
   },
   "outputs": [],
   "source": [
    "def mean_iou(y_true, y_pred):\n",
    "    \n",
    "    n_classes = 11 \n",
    "    y_cls = tf.argmax(y_true, axis=-1)\n",
    "    pred_cls = tf.argmax(y_pred, axis=-1)\n",
    "\n",
    "    y_uniques = tf.to_int64(tf.unique(tf.reshape(y_cls, [-1]))[0])\n",
    "    pred_uniques = tf.to_int64(tf.unique(tf.reshape(pred_cls, [-1]))[0])\n",
    "    \n",
    "    uniques = tf.to_int64(tf.unique(tf.concat([y_uniques, pred_uniques], axis=0))[0])\n",
    "\n",
    "    def get_union(index):\n",
    "        union = tf.reduce_sum(tf.to_int64(tf.equal(y_cls, index) | tf.equal(pred_cls, index)))\n",
    "        return union\n",
    "\n",
    "    def get_intersection(index):\n",
    "        inter = tf.reduce_sum(tf.to_int64(tf.equal(y_cls, index) & tf.equal(pred_cls, index)))\n",
    "        return inter \n",
    "    \n",
    "    unions = tf.map_fn(get_union, uniques)\n",
    "    inters = tf.map_fn(get_intersection, uniques)\n",
    "    return tf.reduce_mean(inters / unions)\n",
    "\n",
    "def batch_mean_iou(y_true, y_pred):\n",
    "    y_true = tf.cast(y_true, tf.float64)\n",
    "    y_pred = tf.cast(y_pred, tf.float64)\n",
    "    n_classes = 11 \n",
    "    stacked_cls = tf.stack([y_pred, y_true], axis=-1)\n",
    "    print(stacked_cls)\n",
    "    \n",
    "    \n",
    "    bm_iou = tf.reduce_mean(tf.map_fn(lambda cls: mean_iou(cls[..., 0], cls[..., 1]), stacked_cls))\n",
    "    return bm_iou"
   ]
  },
  {
   "cell_type": "markdown",
   "metadata": {
    "colab_type": "text",
    "id": "mdKylJEahmLf"
   },
   "source": [
    "### 학습하기"
   ]
  },
  {
   "cell_type": "code",
   "execution_count": null,
   "metadata": {
    "colab": {
     "base_uri": "https://localhost:8080/",
     "height": 513
    },
    "colab_type": "code",
    "id": "2irBbU57r38r",
    "outputId": "2a89addd-43a2-4ad2-86a4-a0d8488a941f"
   },
   "outputs": [],
   "source": [
    "# metric으로 batch_mean_iou를 사용해 학습을 진행해주세요.\n",
    "# fix me!"
   ]
  },
  {
   "cell_type": "code",
   "execution_count": null,
   "metadata": {
    "colab": {
     "base_uri": "https://localhost:8080/",
     "height": 573
    },
    "colab_type": "code",
    "id": "byMojaC8BTVU",
    "outputId": "5d71de19-b2d3-4533-88cd-2b31aed06a62"
   },
   "outputs": [],
   "source": [
    "# Batch Mean IOU 추세선 그리기\n",
    "plt.plot(results.history['batch_mean_iou'])\n",
    "plt.title('Batch Mean IOU')\n",
    "plt.ylabel('Batch Mean IOU')\n",
    "plt.xlabel('Epoch')\n",
    "plt.legend(['Train'], loc='upper left')\n",
    "plt.show()\n",
    "\n",
    "# Loss Function 추세선 그리기\n",
    "plt.plot(results.history['loss'])\n",
    "plt.title('Model loss')\n",
    "plt.ylabel('Loss')\n",
    "plt.xlabel('Epoch')\n",
    "plt.legend(['Train'], loc='upper left')\n",
    "plt.show()"
   ]
  },
  {
   "cell_type": "code",
   "execution_count": null,
   "metadata": {
    "colab": {},
    "colab_type": "code",
    "id": "wsMjhC-dOm_e"
   },
   "outputs": [],
   "source": [
    "pred = model.predict(test_image[:100]/255.)\n",
    "pred_cls = np.argmax(pred, axis=-1)"
   ]
  },
  {
   "cell_type": "code",
   "execution_count": null,
   "metadata": {
    "colab": {
     "base_uri": "https://localhost:8080/",
     "height": 448
    },
    "colab_type": "code",
    "id": "AEHwqU9cosUF",
    "outputId": "52bf4bec-31cb-4821-aaa1-f4a23e80c88f"
   },
   "outputs": [],
   "source": [
    "fig, axes = plt.subplots(2,10)\n",
    "ognl_axes = np.array(axes)[0, :].flatten()\n",
    "pred_axes = np.array(axes)[1, :].flatten()\n",
    "fig.set_size_inches(30,10)\n",
    "for i in range(10):\n",
    "    ognl_axes[i].imshow(test_image[i])\n",
    "    pred_axes[i].imshow(pred_cls[i] == 0)\n",
    "plt.show()"
   ]
  },
  {
   "cell_type": "markdown",
   "metadata": {
    "colab_type": "text",
    "id": "zjAr-ofmhxRA"
   },
   "source": [
    "---\n",
    "⊙ Copyright(c) 2020 by PublicAI. All rights reserved <br>\n",
    "All pictures, codes, writings cannot be copied without permission. <br>\n",
    "Writen by PAI(info@publicai.co.kr) <br>\n",
    "last updated on 2020/01/4 <br>\n",
    "\n",
    "---"
   ]
  }
 ],
 "metadata": {
  "accelerator": "GPU",
  "colab": {
   "collapsed_sections": [],
   "machine_shape": "hm",
   "name": "실제_데이터에_Unet_적용하기.ipynb",
   "provenance": []
  },
  "kernelspec": {
   "display_name": "Python 3",
   "language": "python",
   "name": "python3"
  },
  "language_info": {
   "codemirror_mode": {
    "name": "ipython",
    "version": 3
   },
   "file_extension": ".py",
   "mimetype": "text/x-python",
   "name": "python",
   "nbconvert_exporter": "python",
   "pygments_lexer": "ipython3",
   "version": "3.6.8"
  }
 },
 "nbformat": 4,
 "nbformat_minor": 1
}
